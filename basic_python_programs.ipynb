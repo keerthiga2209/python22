{
  "nbformat": 4,
  "nbformat_minor": 0,
  "metadata": {
    "colab": {
      "name": "basic_python_programs.ipynb",
      "provenance": [],
      "authorship_tag": "ABX9TyOzKfIjJrX9BoQ1ENdEuUg3",
      "include_colab_link": true
    },
    "kernelspec": {
      "name": "python3",
      "display_name": "Python 3"
    },
    "language_info": {
      "name": "python"
    }
  },
  "cells": [
    {
      "cell_type": "markdown",
      "metadata": {
        "id": "view-in-github",
        "colab_type": "text"
      },
      "source": [
        "<a href=\"https://colab.research.google.com/github/keerthiga2209/python22/blob/main/basic_python_programs.ipynb\" target=\"_parent\"><img src=\"https://colab.research.google.com/assets/colab-badge.svg\" alt=\"Open In Colab\"/></a>"
      ]
    },
    {
      "cell_type": "code",
      "execution_count": null,
      "metadata": {
        "colab": {
          "base_uri": "https://localhost:8080/",
          "height": 53
        },
        "id": "ASL7A3TLUYgU",
        "outputId": "d3718640-aba7-48a4-af93-edbac2b606b1"
      },
      "outputs": [
        {
          "output_type": "execute_result",
          "data": {
            "application/vnd.google.colaboratory.intrinsic+json": {
              "type": "string"
            },
            "text/plain": [
              "'\\ndef prime(a):\\n  for i in range(1,a+1):\\n    cnt=0\\n    for j in range(1,a+1):\\n      if (i%j)==0 :\\n        cnt= cnt +1\\n    \\n      print(i)\\n      \\n#prime number generator\\na=int(input(\"enter a number\"))\\nprime(a)\\n\\n'"
            ]
          },
          "metadata": {},
          "execution_count": 1
        }
      ],
      "source": [
        "#Day 1 for sincere python coding\n",
        "\"\"\"\n",
        "print('hello world')\n",
        "#sum of two numbers\n",
        "a = int(input(\"enter a number\"))\n",
        "b = int(input(\"enter a number\"))\n",
        "#calculator\n",
        "\n",
        "def add():\n",
        "  c = a + b\n",
        "  print(c)\n",
        "def sub():\n",
        "  c = a - b\n",
        "  print(c)\n",
        "def mul():\n",
        "  c = a * b\n",
        "  print(c)\n",
        "def div():\n",
        "  c = a / b\n",
        "  print(c)\n",
        "\n",
        "add()\n",
        "sub()\n",
        "mul()\n",
        "div()\n",
        "\n",
        "\"\"\"\n",
        "\"\"\"\n",
        "def prime(a):\n",
        "  for i in range(1,a+1):\n",
        "    cnt=0\n",
        "    for j in range(1,a+1):\n",
        "      if (i%j)==0 :\n",
        "        cnt= cnt +1\n",
        "    \n",
        "      print(i)\n",
        "      \n",
        "#prime number generator\n",
        "a=int(input(\"enter a number\"))\n",
        "prime(a)\n",
        "\n",
        "\"\"\""
      ]
    },
    {
      "cell_type": "markdown",
      "source": [
        "basic programs first"
      ],
      "metadata": {
        "id": "vEKhfPtGUaIX"
      }
    },
    {
      "cell_type": "markdown",
      "source": [
        "# New Section\n",
        "PROGRAMS BASED ON FUNCTIONS"
      ],
      "metadata": {
        "id": "qzSFk_W51tca"
      }
    },
    {
      "cell_type": "code",
      "source": [
        "#lcm\n",
        "def lcm(a,b):\n",
        "  greater = a if a>b else b\n",
        "  while True:\n",
        "    if greater%a==0 and greater%b==0:\n",
        "      return greater\n",
        "      break\n",
        "    else:\n",
        "      greater = greater +1\n",
        "a=int(input(\"enter a number\"))\n",
        "b=int(input(\"enter a number\"))\n",
        "c=int(lcm(a,b))\n",
        "print(\"lcm is \",c)\n",
        "\n",
        "\n",
        "\n"
      ],
      "metadata": {
        "id": "XcfO6jw-1rrt",
        "outputId": "f03d93e8-0dd2-4db4-8fa8-bd30fd44681c",
        "colab": {
          "base_uri": "https://localhost:8080/"
        }
      },
      "execution_count": null,
      "outputs": [
        {
          "output_type": "stream",
          "name": "stdout",
          "text": [
            "enter a number20\n",
            "enter a number39\n",
            "lcm is  780\n"
          ]
        }
      ]
    },
    {
      "cell_type": "code",
      "source": [
        "#hcf\n",
        "def hcf(x,y):\n",
        "  smaller = x if x<y else y #formal paramters\n",
        "  for i in range(1,smaller+1):\n",
        "    if x%smaller==0 and y%smaller==0:\n",
        "      return smaller\n",
        "      break\n",
        "\n",
        "\n",
        "a = int(input(\"enter a number\"))\n",
        "b = int(input(\"enter a number\"))\n",
        "print(\"hcf is\",hcf(a,b)) #actual parameters"
      ],
      "metadata": {
        "id": "nKb-H4TP2vif",
        "outputId": "ab1834ce-78e8-4d4d-8f2d-35bbac47cb75",
        "colab": {
          "base_uri": "https://localhost:8080/"
        }
      },
      "execution_count": null,
      "outputs": [
        {
          "output_type": "stream",
          "name": "stdout",
          "text": [
            "enter a number2\n",
            "enter a number4\n",
            "hcf is 2\n"
          ]
        }
      ]
    },
    {
      "cell_type": "code",
      "source": [
        "#convert decimal to binary, octal and hexadecimal\n",
        "def decimal_to_binary(num):\n",
        "  return bin(num)\n",
        "def decimal_to_octal(num):\n",
        "  return oct(num)\n",
        "def decimal_to_hexadecimal(num):\n",
        "  return hex(num)\n",
        "\n",
        "\n",
        "\n",
        "n=int(input(\"enter a decimal number\"))\n",
        "print(\"binary form of \",n ,\"is\",decimal_to_binary(n))\n",
        "print(\"octal form of \",n,\"is\",decimal_to_octal(n))\n",
        "print(\"hexadecimal form of\",n,\"is\",decimal_to_hexadecimal(n))\n"
      ],
      "metadata": {
        "colab": {
          "base_uri": "https://localhost:8080/"
        },
        "id": "yiWLfMf-BN0J",
        "outputId": "c7c9599e-b6b3-4f1c-bca8-fbf2e4cd227b"
      },
      "execution_count": null,
      "outputs": [
        {
          "output_type": "stream",
          "name": "stdout",
          "text": [
            "enter a decimal number10\n",
            "binary form of  10 is 0b1010\n",
            "octal form of  10 is 0o12\n",
            "hexadecimal form of 10 is 0xa\n"
          ]
        }
      ]
    },
    {
      "cell_type": "code",
      "source": [
        "#ascii value of given character\n",
        "def vv(c):\n",
        "  return ord(c)\n",
        "def vc(c):\n",
        "  c=int(c)\n",
        "  return chr(c)\n",
        "ch=input(\"enter a character \")\n",
        "\"\"\"print(\"the ascii value of a given character is\",vv(ch))\"\"\"\n",
        "print(\"the character for ascii value is \",vc(ch))\n",
        "#number for a given ascii value\n"
      ],
      "metadata": {
        "id": "FfJ99ZyvCVwj",
        "outputId": "12cd5695-4676-4494-c2e3-71338959214e",
        "colab": {
          "base_uri": "https://localhost:8080/"
        }
      },
      "execution_count": null,
      "outputs": [
        {
          "output_type": "stream",
          "name": "stdout",
          "text": [
            "enter a character 97\n",
            "the character for ascii value is  a\n"
          ]
        }
      ]
    },
    {
      "cell_type": "code",
      "source": [
        "#calendar\n",
        "import calendar\n",
        "month=int(input(\"enter a month\"))\n",
        "year = int(input(\"enter a year\"))\n",
        "print(calendar.month(year,month))"
      ],
      "metadata": {
        "id": "jCsssdh3DZQy",
        "outputId": "2e3b0a77-a0a2-4a38-d31f-af0ed8b1aacc",
        "colab": {
          "base_uri": "https://localhost:8080/"
        }
      },
      "execution_count": null,
      "outputs": [
        {
          "output_type": "stream",
          "name": "stdout",
          "text": [
            "enter a month1\n",
            "enter a year2022\n",
            "    January 2022\n",
            "Mo Tu We Th Fr Sa Su\n",
            "                1  2\n",
            " 3  4  5  6  7  8  9\n",
            "10 11 12 13 14 15 16\n",
            "17 18 19 20 21 22 23\n",
            "24 25 26 27 28 29 30\n",
            "31\n",
            "\n"
          ]
        }
      ]
    },
    {
      "cell_type": "code",
      "source": [
        "#calculator\n",
        "def add(a,b):\n",
        "  return a+b\n",
        "def sub(a,b):\n",
        "  return a-b\n",
        "def mul(a,b):\n",
        "  return a*b\n",
        "def div(a,b):\n",
        "  return a/b\n",
        "n1=int(input(\"enter a number \"))\n",
        "n2=int(input(\"enter a number \"))\n",
        "print(\"the added value of \",n1,\" + \",n2,\" = \",add(n1,n2))\n",
        "print(\"the subtracted value of \",n1,\" - \",n2,\" = \",sub(n1,n2))\n",
        "print(\"the multiplied value of \",n1,\" * \",n2,\" = \",mul(n1,n2))\n",
        "print(\"the devision value of \",n1,\" / \",n2,\" = \",div(n1,n2))"
      ],
      "metadata": {
        "id": "tGrqW-_GEGK_",
        "outputId": "d209dd17-e8f9-4001-cf33-ecd273d088e7",
        "colab": {
          "base_uri": "https://localhost:8080/"
        }
      },
      "execution_count": null,
      "outputs": [
        {
          "output_type": "stream",
          "name": "stdout",
          "text": [
            "enter a number 5\n",
            "enter a number 3\n",
            "the added value of  5  +  3  =  8\n",
            "the subtracted value of  5  -  3  =  2\n",
            "the multiplied value of  5  *  3  =  15\n",
            "the devision value of  5  /  3  =  1.6666666666666667\n"
          ]
        }
      ]
    },
    {
      "cell_type": "code",
      "source": [
        "#fib without recursion\n",
        "\"\"\"def fib(n):\n",
        "  f1 = 0\n",
        "  f2 = 1\n",
        "  for i in range(n):\n",
        "    f3=f1+f2\n",
        "    print(f3,\" \")\n",
        "    f1=f2\n",
        "    f2=f3\n",
        "n=int(input(\"enter a number\"))\n",
        "fib(n)\n",
        "\"\"\"\n",
        "def fib(n):\n",
        "  f3=0\n",
        "  if n==1:\n",
        "    return 1\n",
        "  if n<=0:\n",
        "    return 0\n",
        "  \n",
        "  else:\n",
        "    return fib(n-1)+fib(n-2)\n",
        "\n",
        "n=int(input(\"enter a number \"))\n",
        "print(fib(n))\n",
        "\n",
        "   "
      ],
      "metadata": {
        "id": "twJR-0IaFFOT",
        "outputId": "fce5a50e-b745-4281-fd11-fd64431996f9",
        "colab": {
          "base_uri": "https://localhost:8080/"
        }
      },
      "execution_count": null,
      "outputs": [
        {
          "output_type": "stream",
          "name": "stdout",
          "text": [
            "enter a number10\n",
            "55\n"
          ]
        }
      ]
    },
    {
      "cell_type": "code",
      "source": [
        "#fact without recursion\n",
        "def factorial(n):\n",
        "  fact=1\n",
        "  for i in range(1,n+1):\n",
        "    fact=fact*i\n",
        "  return fact\n",
        "num=int(input(\"enter a number \"))\n",
        "print(factorial(num))"
      ],
      "metadata": {
        "id": "0ZjF4H2sI5X3",
        "outputId": "8313a0aa-cf79-4148-e835-f61afa8aa9a8",
        "colab": {
          "base_uri": "https://localhost:8080/"
        }
      },
      "execution_count": 3,
      "outputs": [
        {
          "output_type": "stream",
          "name": "stdout",
          "text": [
            "enter a number 5\n",
            "120\n"
          ]
        }
      ]
    },
    {
      "cell_type": "code",
      "source": [
        "#fact with recursion\n",
        "def factorial(n):\n",
        "\n",
        "  if n<=1:\n",
        "    return 1\n",
        "  else:\n",
        "    return factorial(n-1)*n\n",
        "  \n",
        "num=int(input(\"enter a number \"))\n",
        "print(factorial(num))"
      ],
      "metadata": {
        "id": "AXgRM34SFRaR",
        "outputId": "d2c79acd-d5d0-4950-a048-895c691ec1c0",
        "colab": {
          "base_uri": "https://localhost:8080/"
        }
      },
      "execution_count": 6,
      "outputs": [
        {
          "output_type": "stream",
          "name": "stdout",
          "text": [
            "enter a number 5\n",
            "120\n"
          ]
        }
      ]
    }
  ]
}