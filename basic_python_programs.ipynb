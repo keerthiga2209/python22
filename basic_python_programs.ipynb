{
  "nbformat": 4,
  "nbformat_minor": 0,
  "metadata": {
    "colab": {
      "name": "basic_python_programs.ipynb",
      "provenance": [],
      "authorship_tag": "ABX9TyNfU1MEyWcoAfRd70liDtew",
      "include_colab_link": true
    },
    "kernelspec": {
      "name": "python3",
      "display_name": "Python 3"
    },
    "language_info": {
      "name": "python"
    }
  },
  "cells": [
    {
      "cell_type": "markdown",
      "metadata": {
        "id": "view-in-github",
        "colab_type": "text"
      },
      "source": [
        "<a href=\"https://colab.research.google.com/github/keerthiga2209/python22/blob/main/basic_python_programs.ipynb\" target=\"_parent\"><img src=\"https://colab.research.google.com/assets/colab-badge.svg\" alt=\"Open In Colab\"/></a>"
      ]
    },
    {
      "cell_type": "code",
      "execution_count": 1,
      "metadata": {
        "colab": {
          "base_uri": "https://localhost:8080/",
          "height": 53
        },
        "id": "ASL7A3TLUYgU",
        "outputId": "d3718640-aba7-48a4-af93-edbac2b606b1"
      },
      "outputs": [
        {
          "output_type": "execute_result",
          "data": {
            "application/vnd.google.colaboratory.intrinsic+json": {
              "type": "string"
            },
            "text/plain": [
              "'\\ndef prime(a):\\n  for i in range(1,a+1):\\n    cnt=0\\n    for j in range(1,a+1):\\n      if (i%j)==0 :\\n        cnt= cnt +1\\n    \\n      print(i)\\n      \\n#prime number generator\\na=int(input(\"enter a number\"))\\nprime(a)\\n\\n'"
            ]
          },
          "metadata": {},
          "execution_count": 1
        }
      ],
      "source": [
        "#Day 1 for sincere python coding\n",
        "\"\"\"\n",
        "print('hello world')\n",
        "#sum of two numbers\n",
        "a = int(input(\"enter a number\"))\n",
        "b = int(input(\"enter a number\"))\n",
        "#calculator\n",
        "\n",
        "def add():\n",
        "  c = a + b\n",
        "  print(c)\n",
        "def sub():\n",
        "  c = a - b\n",
        "  print(c)\n",
        "def mul():\n",
        "  c = a * b\n",
        "  print(c)\n",
        "def div():\n",
        "  c = a / b\n",
        "  print(c)\n",
        "\n",
        "add()\n",
        "sub()\n",
        "mul()\n",
        "div()\n",
        "\n",
        "\"\"\"\n",
        "\"\"\"\n",
        "def prime(a):\n",
        "  for i in range(1,a+1):\n",
        "    cnt=0\n",
        "    for j in range(1,a+1):\n",
        "      if (i%j)==0 :\n",
        "        cnt= cnt +1\n",
        "    \n",
        "      print(i)\n",
        "      \n",
        "#prime number generator\n",
        "a=int(input(\"enter a number\"))\n",
        "prime(a)\n",
        "\n",
        "\"\"\""
      ]
    },
    {
      "cell_type": "markdown",
      "source": [
        "basic programs first"
      ],
      "metadata": {
        "id": "vEKhfPtGUaIX"
      }
    },
    {
      "cell_type": "markdown",
      "source": [
        "# New Section\n",
        "PROGRAMS BASED ON FUNCTIONS"
      ],
      "metadata": {
        "id": "qzSFk_W51tca"
      }
    },
    {
      "cell_type": "code",
      "source": [
        "#lcm\n",
        "def lcm(a,b):\n",
        "  greater = a if a>b else b\n",
        "  while True:\n",
        "    if greater%a==0 and greater%b==0:\n",
        "      return greater\n",
        "      break\n",
        "    else:\n",
        "      greater = greater +1\n",
        "a=int(input(\"enter a number\"))\n",
        "b=int(input(\"enter a number\"))\n",
        "c=int(lcm(a,b))\n",
        "print(\"lcm is \",c)\n",
        "\n",
        "\n",
        "\n"
      ],
      "metadata": {
        "id": "XcfO6jw-1rrt",
        "outputId": "f03d93e8-0dd2-4db4-8fa8-bd30fd44681c",
        "colab": {
          "base_uri": "https://localhost:8080/"
        }
      },
      "execution_count": 4,
      "outputs": [
        {
          "output_type": "stream",
          "name": "stdout",
          "text": [
            "enter a number20\n",
            "enter a number39\n",
            "lcm is  780\n"
          ]
        }
      ]
    },
    {
      "cell_type": "code",
      "source": [
        "#hcf\n",
        "def hcf(x,y):\n",
        "  smaller = x if x<y else y\n",
        "  for i in range(1,smaller+1):\n",
        "    if x%smaller==0 and y%smaller==0:\n",
        "      return smaller\n",
        "      break\n",
        "\n",
        "\n",
        "a = int(input(\"enter a number\"))\n",
        "b = int(input(\"enter a number\"))\n",
        "print(\"hcf is\",hcf(a,b))"
      ],
      "metadata": {
        "id": "nKb-H4TP2vif",
        "outputId": "ab1834ce-78e8-4d4d-8f2d-35bbac47cb75",
        "colab": {
          "base_uri": "https://localhost:8080/"
        }
      },
      "execution_count": 6,
      "outputs": [
        {
          "output_type": "stream",
          "name": "stdout",
          "text": [
            "enter a number2\n",
            "enter a number4\n",
            "hcf is 2\n"
          ]
        }
      ]
    }
  ]
}